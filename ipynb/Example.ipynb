{
 "cells": [
  {
   "cell_type": "markdown",
   "metadata": {},
   "source": [
    "# VCD2Wavedrom Example"
   ]
  },
  {
   "cell_type": "markdown",
   "metadata": {},
   "source": [
    "## Third Party Imports"
   ]
  },
  {
   "cell_type": "code",
   "execution_count": 1,
   "metadata": {},
   "outputs": [],
   "source": [
    "import wavedrom"
   ]
  },
  {
   "cell_type": "markdown",
   "metadata": {},
   "source": [
    "## Module Import"
   ]
  },
  {
   "cell_type": "code",
   "execution_count": 2,
   "metadata": {},
   "outputs": [],
   "source": [
    "from vcd2wavedrom import VCD2Wavedrom"
   ]
  },
  {
   "cell_type": "markdown",
   "metadata": {},
   "source": [
    "## Example VCD "
   ]
  },
  {
   "cell_type": "markdown",
   "metadata": {},
   "source": [
    "(Value Change Dump)"
   ]
  },
  {
   "cell_type": "code",
   "execution_count": 9,
   "metadata": {},
   "outputs": [],
   "source": [
    "vcd = \"\"\"$date today $end\n",
    "$timescale 1 ns $end\n",
    "$scope module top $end\n",
    "$var reg 1 0 A $end\n",
    "$var reg 1 1 B $end\n",
    "$var reg 1 2 sel $end\n",
    "$var reg 1 3 seln $end\n",
    "$var reg 1 4 S1 $end\n",
    "$var reg 1 5 S2 $end\n",
    "$var reg 1 6 Q $end\n",
    "$upscope $end\n",
    "$enddefinitions $end\n",
    "#0\n",
    "b0 0\n",
    "b0 1\n",
    "b1 2\n",
    "b0 3\n",
    "b1 4\n",
    "b1 5\n",
    "b0 6\n",
    "#10\n",
    "b1 1\n",
    "#12\n",
    "b0 5\n",
    "#14\n",
    "b1 6\n",
    "#20\n",
    "b1 0\n",
    "#30\n",
    "b0 2\n",
    "#32\n",
    "b1 3\n",
    "b1 5\n",
    "#34\n",
    "b0 4\n",
    "b0 6\n",
    "#36\n",
    "b1 6\n",
    "\"\"\""
   ]
  },
  {
   "cell_type": "markdown",
   "metadata": {},
   "source": [
    "## Demo"
   ]
  },
  {
   "cell_type": "markdown",
   "metadata": {},
   "source": [
    "Initialize Module"
   ]
  },
  {
   "cell_type": "code",
   "execution_count": 4,
   "metadata": {},
   "outputs": [],
   "source": [
    "v2w = VCD2Wavedrom(vcd)"
   ]
  },
  {
   "cell_type": "markdown",
   "metadata": {},
   "source": [
    "Perform conversion"
   ]
  },
  {
   "cell_type": "code",
   "execution_count": 5,
   "metadata": {},
   "outputs": [
    {
     "name": "stdout",
     "output_type": "stream",
     "text": [
      "{\n",
      "    \"signal\": [\n",
      "\t\t{ \"name\": \"A\",\t\"wave\": \"0.........1........\" },\n",
      "\t\t{ \"name\": \"B\",\t\"wave\": \"0....1.............\" },\n",
      "\t\t{ \"name\": \"sel\",\t\"wave\": \"1..............0...\" },\n",
      "\t\t{ \"name\": \"seln\",\t\"wave\": \"0...............1..\" },\n",
      "\t\t{ \"name\": \"S1\",\t\"wave\": \"1................0.\" },\n",
      "\t\t{ \"name\": \"S2\",\t\"wave\": \"1.....0.........1..\" },\n",
      "\t\t{ \"name\": \"Q\",\t\"wave\": \"0......1.........01\" }\n",
      "    ],\n",
      "    \"head\": {\n",
      "        \"text\": \"Simulation Waveform\",\n",
      "        \"tick\": 0\n",
      "    }\n",
      "}\n"
     ]
    }
   ],
   "source": [
    "json=v2w.convert()\n",
    "print(json)"
   ]
  },
  {
   "cell_type": "markdown",
   "metadata": {},
   "source": [
    "Render"
   ]
  },
  {
   "cell_type": "code",
   "execution_count": 7,
   "metadata": {
    "scrolled": true
   },
   "outputs": [
    {
     "data": {
      "image/svg+xml": [
       "<svg baseProfile=\"full\" class=\"WaveDrom\" height=\"276\" id=\"svgcontent_0\" overflow=\"hidden\" version=\"1.1\" viewBox=\"0,0,840,276\" width=\"840\" xmlns=\"http://www.w3.org/2000/svg\" xmlns:ev=\"http://www.w3.org/2001/xml-events\" xmlns:xlink=\"http://www.w3.org/1999/xlink\"><defs><g id=\"socket\"><rect height=\"20\" width=\"20\" x=\"6\" y=\"15\" /></g><g id=\"pclk\"><path class=\"s1\" d=\"M0,20 0,0 20,0\" /></g><g id=\"nclk\"><path class=\"s1\" d=\"m0,0 0,20 20,0\" /></g><g id=\"000\"><path class=\"s1\" d=\"m0,20 20,0\" /></g><g id=\"0m0\"><path class=\"s1\" d=\"m0,20 3,0 3,-10 3,10 11,0\" /></g><g id=\"0m1\"><path class=\"s1\" d=\"M0,20 3,20 9,0 20,0\" /></g><g id=\"0mx\"><path class=\"s1\" d=\"M3,20 9,0 20,0\" /><path class=\"s2\" d=\"m20,15 -5,5\" /><path class=\"s2\" d=\"M20,10 10,20\" /><path class=\"s2\" d=\"M20,5 5,20\" /><path class=\"s2\" d=\"M20,0 4,16\" /><path class=\"s2\" d=\"M15,0 6,9\" /><path class=\"s2\" d=\"M10,0 9,1\" /><path class=\"s1\" d=\"m0,20 20,0\" /></g><g id=\"0md\"><path class=\"s3\" d=\"m8,20 10,0\" /><path class=\"s1\" d=\"m0,20 5,0\" /></g><g id=\"0mu\"><path class=\"s1\" d=\"m0,20 3,0 C 7,10 10.107603,0 20,0\" /></g><g id=\"0mz\"><path class=\"s1\" d=\"m0,20 3,0 C 10,10 15,10 20,10\" /></g><g id=\"111\"><path class=\"s1\" d=\"M0,0 20,0\" /></g><g id=\"1m0\"><path class=\"s1\" d=\"m0,0 3,0 6,20 11,0\" /></g><g id=\"1m1\"><path class=\"s1\" d=\"M0,0 3,0 6,10 9,0 20,0\" /></g><g id=\"1mx\"><path class=\"s1\" d=\"m3,0 6,20 11,0\" /><path class=\"s1\" d=\"M0,0 20,0\" /><path class=\"s2\" d=\"m20,15 -5,5\" /><path class=\"s2\" d=\"M20,10 10,20\" /><path class=\"s2\" d=\"M20,5 8,17\" /><path class=\"s2\" d=\"M20,0 7,13\" /><path class=\"s2\" d=\"M15,0 6,9\" /><path class=\"s2\" d=\"M10,0 5,5\" /><path class=\"s2\" d=\"M3.5,1.5 5,0\" /></g><g id=\"1md\"><path class=\"s1\" d=\"m0,0 3,0 c 4,10 7,20 17,20\" /></g><g id=\"1mu\"><path class=\"s1\" d=\"M0,0 5,0\" /><path class=\"s3\" d=\"M8,0 18,0\" /></g><g id=\"1mz\"><path class=\"s1\" d=\"m0,0 3,0 c 7,10 12,10 17,10\" /></g><g id=\"xxx\"><path class=\"s1\" d=\"m0,20 20,0\" /><path class=\"s1\" d=\"M0,0 20,0\" /><path class=\"s2\" d=\"M0,5 5,0\" /><path class=\"s2\" d=\"M0,10 10,0\" /><path class=\"s2\" d=\"M0,15 15,0\" /><path class=\"s2\" d=\"M0,20 20,0\" /><path class=\"s2\" d=\"M5,20 20,5\" /><path class=\"s2\" d=\"M10,20 20,10\" /><path class=\"s2\" d=\"m15,20 5,-5\" /></g><g id=\"xm0\"><path class=\"s1\" d=\"M0,0 4,0 9,20\" /><path class=\"s1\" d=\"m0,20 20,0\" /><path class=\"s2\" d=\"M0,5 4,1\" /><path class=\"s2\" d=\"M0,10 5,5\" /><path class=\"s2\" d=\"M0,15 6,9\" /><path class=\"s2\" d=\"M0,20 7,13\" /><path class=\"s2\" d=\"M5,20 8,17\" /></g><g id=\"xm1\"><path class=\"s1\" d=\"M0,0 20,0\" /><path class=\"s1\" d=\"M0,20 4,20 9,0\" /><path class=\"s2\" d=\"M0,5 5,0\" /><path class=\"s2\" d=\"M0,10 9,1\" /><path class=\"s2\" d=\"M0,15 7,8\" /><path class=\"s2\" d=\"M0,20 5,15\" /></g><g id=\"xmx\"><path class=\"s1\" d=\"m0,20 20,0\" /><path class=\"s1\" d=\"M0,0 20,0\" /><path class=\"s2\" d=\"M0,5 5,0\" /><path class=\"s2\" d=\"M0,10 10,0\" /><path class=\"s2\" d=\"M0,15 15,0\" /><path class=\"s2\" d=\"M0,20 20,0\" /><path class=\"s2\" d=\"M5,20 20,5\" /><path class=\"s2\" d=\"M10,20 20,10\" /><path class=\"s2\" d=\"m15,20 5,-5\" /></g><g id=\"xmd\"><path class=\"s1\" d=\"m0,0 4,0 c 3,10 6,20 16,20\" /><path class=\"s1\" d=\"m0,20 20,0\" /><path class=\"s2\" d=\"M0,5 4,1\" /><path class=\"s2\" d=\"M0,10 5.5,4.5\" /><path class=\"s2\" d=\"M0,15 6.5,8.5\" /><path class=\"s2\" d=\"M0,20 8,12\" /><path class=\"s2\" d=\"m5,20 5,-5\" /><path class=\"s2\" d=\"m10,20 2.5,-2.5\" /></g><g id=\"xmu\"><path class=\"s1\" d=\"M0,0 20,0\" /><path class=\"s1\" d=\"m0,20 4,0 C 7,10 10,0 20,0\" /><path class=\"s2\" d=\"M0,5 5,0\" /><path class=\"s2\" d=\"M0,10 10,0\" /><path class=\"s2\" d=\"M0,15 10,5\" /><path class=\"s2\" d=\"M0,20 6,14\" /></g><g id=\"xmz\"><path class=\"s1\" d=\"m0,0 4,0 c 6,10 11,10 16,10\" /><path class=\"s1\" d=\"m0,20 4,0 C 10,10 15,10 20,10\" /><path class=\"s2\" d=\"M0,5 4.5,0.5\" /><path class=\"s2\" d=\"M0,10 6.5,3.5\" /><path class=\"s2\" d=\"M0,15 8.5,6.5\" /><path class=\"s2\" d=\"M0,20 11.5,8.5\" /></g><g id=\"ddd\"><path class=\"s3\" d=\"m0,20 20,0\" /></g><g id=\"dm0\"><path class=\"s3\" d=\"m0,20 10,0\" /><path class=\"s1\" d=\"m12,20 8,0\" /></g><g id=\"dm1\"><path class=\"s1\" d=\"M0,20 3,20 9,0 20,0\" /></g><g id=\"dmx\"><path class=\"s1\" d=\"M3,20 9,0 20,0\" /><path class=\"s2\" d=\"m20,15 -5,5\" /><path class=\"s2\" d=\"M20,10 10,20\" /><path class=\"s2\" d=\"M20,5 5,20\" /><path class=\"s2\" d=\"M20,0 4,16\" /><path class=\"s2\" d=\"M15,0 6,9\" /><path class=\"s2\" d=\"M10,0 9,1\" /><path class=\"s1\" d=\"m0,20 20,0\" /></g><g id=\"dmd\"><path class=\"s3\" d=\"m0,20 20,0\" /></g><g id=\"dmu\"><path class=\"s1\" d=\"m0,20 3,0 C 7,10 10.107603,0 20,0\" /></g><g id=\"dmz\"><path class=\"s1\" d=\"m0,20 3,0 C 10,10 15,10 20,10\" /></g><g id=\"uuu\"><path class=\"s3\" d=\"M0,0 20,0\" /></g><g id=\"um0\"><path class=\"s1\" d=\"m0,0 3,0 6,20 11,0\" /></g><g id=\"um1\"><path class=\"s3\" d=\"M0,0 10,0\" /><path class=\"s1\" d=\"m12,0 8,0\" /></g><g id=\"umx\"><path class=\"s1\" d=\"m3,0 6,20 11,0\" /><path class=\"s1\" d=\"M0,0 20,0\" /><path class=\"s2\" d=\"m20,15 -5,5\" /><path class=\"s2\" d=\"M20,10 10,20\" /><path class=\"s2\" d=\"M20,5 8,17\" /><path class=\"s2\" d=\"M20,0 7,13\" /><path class=\"s2\" d=\"M15,0 6,9\" /><path class=\"s2\" d=\"M10,0 5,5\" /><path class=\"s2\" d=\"M3.5,1.5 5,0\" /></g><g id=\"umd\"><path class=\"s1\" d=\"m0,0 3,0 c 4,10 7,20 17,20\" /></g><g id=\"umu\"><path class=\"s3\" d=\"M0,0 20,0\" /></g><g id=\"umz\"><path class=\"s4\" d=\"m0,0 3,0 c 7,10 12,10 17,10\" /></g><g id=\"zzz\"><path class=\"s1\" d=\"m0,10 20,0\" /></g><g id=\"zm0\"><path class=\"s1\" d=\"m0,10 6,0 3,10 11,0\" /></g><g id=\"zm1\"><path class=\"s1\" d=\"M0,10 6,10 9,0 20,0\" /></g><g id=\"zmx\"><path class=\"s1\" d=\"m6,10 3,10 11,0\" /><path class=\"s1\" d=\"M0,10 6,10 9,0 20,0\" /><path class=\"s2\" d=\"m20,15 -5,5\" /><path class=\"s2\" d=\"M20,10 10,20\" /><path class=\"s2\" d=\"M20,5 8,17\" /><path class=\"s2\" d=\"M20,0 7,13\" /><path class=\"s2\" d=\"M15,0 6.5,8.5\" /><path class=\"s2\" d=\"M10,0 9,1\" /></g><g id=\"zmd\"><path class=\"s1\" d=\"m0,10 7,0 c 3,5 8,10 13,10\" /></g><g id=\"zmu\"><path class=\"s1\" d=\"m0,10 7,0 C 10,5 15,0 20,0\" /></g><g id=\"zmz\"><path class=\"s1\" d=\"m0,10 20,0\" /></g><g id=\"gap\"><path class=\"s5\" d=\"m7,-2 -4,0 c -5,0 -5,24 -10,24 l 4,0 C 2,22 2,-2 7,-2 z\" /><path class=\"s1\" d=\"M-7,22 C -2,22 -2,-2 3,-2\" /><path class=\"s1\" d=\"M-3,22 C 2,22 2,-2 7,-2\" /></g><g id=\"0mv-3\"><path class=\"s6\" d=\"M9,0 20,0 20,20 3,20 z\" /><path class=\"s1\" d=\"M3,20 9,0 20,0\" /><path class=\"s1\" d=\"m0,20 20,0\" /></g><g id=\"1mv-3\"><path class=\"s6\" d=\"M2.875,0 20,0 20,20 9,20 z\" /><path class=\"s1\" d=\"m3,0 6,20 11,0\" /><path class=\"s1\" d=\"M0,0 20,0\" /></g><g id=\"xmv-3\"><path class=\"s6\" d=\"M9,0 20,0 20,20 9,20 6,10 z\" /><path class=\"s1\" d=\"M0,20 3,20 9,0 20,0\" /><path class=\"s1\" d=\"m0,0 3,0 6,20 11,0\" /><path class=\"s2\" d=\"M0,5 3.5,1.5\" /><path class=\"s2\" d=\"M0,10 4.5,5.5\" /><path class=\"s2\" d=\"M0,15 6,9\" /><path class=\"s2\" d=\"M0,20 4,16\" /></g><g id=\"dmv-3\"><path class=\"s6\" d=\"M9,0 20,0 20,20 3,20 z\" /><path class=\"s1\" d=\"M3,20 9,0 20,0\" /><path class=\"s1\" d=\"m0,20 20,0\" /></g><g id=\"umv-3\"><path class=\"s6\" d=\"M3,0 20,0 20,20 9,20 z\" /><path class=\"s1\" d=\"m3,0 6,20 11,0\" /><path class=\"s1\" d=\"M0,0 20,0\" /></g><g id=\"zmv-3\"><path class=\"s6\" d=\"M9,0 20,0 20,20 9,20 6,10 z\" /><path class=\"s1\" d=\"m6,10 3,10 11,0\" /><path class=\"s1\" d=\"M0,10 6,10 9,0 20,0\" /></g><g id=\"vvv-3\"><path class=\"s6\" d=\"M20,20 0,20 0,0 20,0\" /><path class=\"s1\" d=\"m0,20 20,0\" /><path class=\"s1\" d=\"M0,0 20,0\" /></g><g id=\"vm0-3\"><path class=\"s6\" d=\"M0,20 0,0 3,0 9,20\" /><path class=\"s1\" d=\"M0,0 3,0 9,20\" /><path class=\"s1\" d=\"m0,20 20,0\" /></g><g id=\"vm1-3\"><path class=\"s6\" d=\"M0,0 0,20 3,20 9,0\" /><path class=\"s1\" d=\"M0,0 20,0\" /><path class=\"s1\" d=\"M0,20 3,20 9,0\" /></g><g id=\"vmx-3\"><path class=\"s6\" d=\"M0,0 0,20 3,20 6,10 3,0\" /><path class=\"s1\" d=\"m0,0 3,0 6,20 11,0\" /><path class=\"s1\" d=\"M0,20 3,20 9,0 20,0\" /><path class=\"s2\" d=\"m20,15 -5,5\" /><path class=\"s2\" d=\"M20,10 10,20\" /><path class=\"s2\" d=\"M20,5 8,17\" /><path class=\"s2\" d=\"M20,0 7,13\" /><path class=\"s2\" d=\"M15,0 7,8\" /><path class=\"s2\" d=\"M10,0 9,1\" /></g><g id=\"vmd-3\"><path class=\"s6\" d=\"m0,0 0,20 20,0 C 10,20 7,10 3,0\" /><path class=\"s1\" d=\"m0,0 3,0 c 4,10 7,20 17,20\" /><path class=\"s1\" d=\"m0,20 20,0\" /></g><g id=\"vmu-3\"><path class=\"s6\" d=\"m0,0 0,20 3,0 C 7,10 10,0 20,0\" /><path class=\"s1\" d=\"m0,20 3,0 C 7,10 10,0 20,0\" /><path class=\"s1\" d=\"M0,0 20,0\" /></g><g id=\"vmz-3\"><path class=\"s6\" d=\"M0,0 3,0 C 10,10 15,10 20,10 15,10 10,10 3,20 L 0,20\" /><path class=\"s1\" d=\"m0,0 3,0 c 7,10 12,10 17,10\" /><path class=\"s1\" d=\"m0,20 3,0 C 10,10 15,10 20,10\" /></g><g id=\"vmv-3-3\"><path class=\"s6\" d=\"M9,0 20,0 20,20 9,20 6,10 z\" /><path class=\"s6\" d=\"M3,0 0,0 0,20 3,20 6,10 z\" /><path class=\"s1\" d=\"m0,0 3,0 6,20 11,0\" /><path class=\"s1\" d=\"M0,20 3,20 9,0 20,0\" /></g><g id=\"vmv-3-4\"><path class=\"s7\" d=\"M9,0 20,0 20,20 9,20 6,10 z\" /><path class=\"s6\" d=\"M3,0 0,0 0,20 3,20 6,10 z\" /><path class=\"s1\" d=\"m0,0 3,0 6,20 11,0\" /><path class=\"s1\" d=\"M0,20 3,20 9,0 20,0\" /></g><g id=\"vmv-3-5\"><path class=\"s8\" d=\"M9,0 20,0 20,20 9,20 6,10 z\" /><path class=\"s6\" d=\"M3,0 0,0 0,20 3,20 6,10 z\" /><path class=\"s1\" d=\"m0,0 3,0 6,20 11,0\" /><path class=\"s1\" d=\"M0,20 3,20 9,0 20,0\" /></g><g id=\"vmv-4-3\"><path class=\"s6\" d=\"M9,0 20,0 20,20 9,20 6,10 z\" /><path class=\"s7\" d=\"M3,0 0,0 0,20 3,20 6,10 z\" /><path class=\"s1\" d=\"m0,0 3,0 6,20 11,0\" /><path class=\"s1\" d=\"M0,20 3,20 9,0 20,0\" /></g><g id=\"vmv-4-4\"><path class=\"s7\" d=\"M9,0 20,0 20,20 9,20 6,10 z\" /><path class=\"s7\" d=\"M3,0 0,0 0,20 3,20 6,10 z\" /><path class=\"s1\" d=\"m0,0 3,0 6,20 11,0\" /><path class=\"s1\" d=\"M0,20 3,20 9,0 20,0\" /></g><g id=\"vmv-4-5\"><path class=\"s8\" d=\"M9,0 20,0 20,20 9,20 6,10 z\" /><path class=\"s7\" d=\"M3,0 0,0 0,20 3,20 6,10 z\" /><path class=\"s1\" d=\"m0,0 3,0 6,20 11,0\" /><path class=\"s1\" d=\"M0,20 3,20 9,0 20,0\" /></g><g id=\"vmv-5-3\"><path class=\"s6\" d=\"M9,0 20,0 20,20 9,20 6,10 z\" /><path class=\"s8\" d=\"M3,0 0,0 0,20 3,20 6,10 z\" /><path class=\"s1\" d=\"m0,0 3,0 6,20 11,0\" /><path class=\"s1\" d=\"M0,20 3,20 9,0 20,0\" /></g><g id=\"vmv-5-4\"><path class=\"s7\" d=\"M9,0 20,0 20,20 9,20 6,10 z\" /><path class=\"s8\" d=\"M3,0 0,0 0,20 3,20 6,10 z\" /><path class=\"s1\" d=\"m0,0 3,0 6,20 11,0\" /><path class=\"s1\" d=\"M0,20 3,20 9,0 20,0\" /></g><g id=\"vmv-5-5\"><path class=\"s8\" d=\"M9,0 20,0 20,20 9,20 6,10 z\" /><path class=\"s8\" d=\"M3,0 0,0 0,20 3,20 6,10 z\" /><path class=\"s1\" d=\"m0,0 3,0 6,20 11,0\" /><path class=\"s1\" d=\"M0,20 3,20 9,0 20,0\" /></g><g id=\"0mv-4\"><path class=\"s7\" d=\"M9,0 20,0 20,20 3,20 z\" /><path class=\"s1\" d=\"M3,20 9,0 20,0\" /><path class=\"s1\" d=\"m0,20 20,0\" /></g><g id=\"1mv-4\"><path class=\"s7\" d=\"M2.875,0 20,0 20,20 9,20 z\" /><path class=\"s1\" d=\"m3,0 6,20 11,0\" /><path class=\"s1\" d=\"M0,0 20,0\" /></g><g id=\"xmv-4\"><path class=\"s7\" d=\"M9,0 20,0 20,20 9,20 6,10 z\" /><path class=\"s1\" d=\"M0,20 3,20 9,0 20,0\" /><path class=\"s1\" d=\"m0,0 3,0 6,20 11,0\" /><path class=\"s2\" d=\"M0,5 3.5,1.5\" /><path class=\"s2\" d=\"M0,10 4.5,5.5\" /><path class=\"s2\" d=\"M0,15 6,9\" /><path class=\"s2\" d=\"M0,20 4,16\" /></g><g id=\"dmv-4\"><path class=\"s7\" d=\"M9,0 20,0 20,20 3,20 z\" /><path class=\"s1\" d=\"M3,20 9,0 20,0\" /><path class=\"s1\" d=\"m0,20 20,0\" /></g><g id=\"umv-4\"><path class=\"s7\" d=\"M3,0 20,0 20,20 9,20 z\" /><path class=\"s1\" d=\"m3,0 6,20 11,0\" /><path class=\"s1\" d=\"M0,0 20,0\" /></g><g id=\"zmv-4\"><path class=\"s7\" d=\"M9,0 20,0 20,20 9,20 6,10 z\" /><path class=\"s1\" d=\"m6,10 3,10 11,0\" /><path class=\"s1\" d=\"M0,10 6,10 9,0 20,0\" /></g><g id=\"0mv-5\"><path class=\"s8\" d=\"M9,0 20,0 20,20 3,20 z\" /><path class=\"s1\" d=\"M3,20 9,0 20,0\" /><path class=\"s1\" d=\"m0,20 20,0\" /></g><g id=\"1mv-5\"><path class=\"s8\" d=\"M2.875,0 20,0 20,20 9,20 z\" /><path class=\"s1\" d=\"m3,0 6,20 11,0\" /><path class=\"s1\" d=\"M0,0 20,0\" /></g><g id=\"xmv-5\"><path class=\"s8\" d=\"M9,0 20,0 20,20 9,20 6,10 z\" /><path class=\"s1\" d=\"M0,20 3,20 9,0 20,0\" /><path class=\"s1\" d=\"m0,0 3,0 6,20 11,0\" /><path class=\"s2\" d=\"M0,5 3.5,1.5\" /><path class=\"s2\" d=\"M0,10 4.5,5.5\" /><path class=\"s2\" d=\"M0,15 6,9\" /><path class=\"s2\" d=\"M0,20 4,16\" /></g><g id=\"dmv-5\"><path class=\"s8\" d=\"M9,0 20,0 20,20 3,20 z\" /><path class=\"s1\" d=\"M3,20 9,0 20,0\" /><path class=\"s1\" d=\"m0,20 20,0\" /></g><g id=\"umv-5\"><path class=\"s8\" d=\"M3,0 20,0 20,20 9,20 z\" /><path class=\"s1\" d=\"m3,0 6,20 11,0\" /><path class=\"s1\" d=\"M0,0 20,0\" /></g><g id=\"zmv-5\"><path class=\"s8\" d=\"M9,0 20,0 20,20 9,20 6,10 z\" /><path class=\"s1\" d=\"m6,10 3,10 11,0\" /><path class=\"s1\" d=\"M0,10 6,10 9,0 20,0\" /></g><g id=\"vvv-4\"><path class=\"s7\" d=\"M20,20 0,20 0,0 20,0\" /><path class=\"s1\" d=\"m0,20 20,0\" /><path class=\"s1\" d=\"M0,0 20,0\" /></g><g id=\"vm0-4\"><path class=\"s7\" d=\"M0,20 0,0 3,0 9,20\" /><path class=\"s1\" d=\"M0,0 3,0 9,20\" /><path class=\"s1\" d=\"m0,20 20,0\" /></g><g id=\"vm1-4\"><path class=\"s7\" d=\"M0,0 0,20 3,20 9,0\" /><path class=\"s1\" d=\"M0,0 20,0\" /><path class=\"s1\" d=\"M0,20 3,20 9,0\" /></g><g id=\"vmx-4\"><path class=\"s7\" d=\"M0,0 0,20 3,20 6,10 3,0\" /><path class=\"s1\" d=\"m0,0 3,0 6,20 11,0\" /><path class=\"s1\" d=\"M0,20 3,20 9,0 20,0\" /><path class=\"s2\" d=\"m20,15 -5,5\" /><path class=\"s2\" d=\"M20,10 10,20\" /><path class=\"s2\" d=\"M20,5 8,17\" /><path class=\"s2\" d=\"M20,0 7,13\" /><path class=\"s2\" d=\"M15,0 7,8\" /><path class=\"s2\" d=\"M10,0 9,1\" /></g><g id=\"vmd-4\"><path class=\"s7\" d=\"m0,0 0,20 20,0 C 10,20 7,10 3,0\" /><path class=\"s1\" d=\"m0,0 3,0 c 4,10 7,20 17,20\" /><path class=\"s1\" d=\"m0,20 20,0\" /></g><g id=\"vmu-4\"><path class=\"s7\" d=\"m0,0 0,20 3,0 C 7,10 10,0 20,0\" /><path class=\"s1\" d=\"m0,20 3,0 C 7,10 10,0 20,0\" /><path class=\"s1\" d=\"M0,0 20,0\" /></g><g id=\"vmz-4\"><path class=\"s7\" d=\"M0,0 3,0 C 10,10 15,10 20,10 15,10 10,10 3,20 L 0,20\" /><path class=\"s1\" d=\"m0,0 3,0 c 7,10 12,10 17,10\" /><path class=\"s1\" d=\"m0,20 3,0 C 10,10 15,10 20,10\" /></g><g id=\"vvv-5\"><path class=\"s8\" d=\"M20,20 0,20 0,0 20,0\" /><path class=\"s1\" d=\"m0,20 20,0\" /><path class=\"s1\" d=\"M0,0 20,0\" /></g><g id=\"vm0-5\"><path class=\"s8\" d=\"M0,20 0,0 3,0 9,20\" /><path class=\"s1\" d=\"M0,0 3,0 9,20\" /><path class=\"s1\" d=\"m0,20 20,0\" /></g><g id=\"vm1-5\"><path class=\"s8\" d=\"M0,0 0,20 3,20 9,0\" /><path class=\"s1\" d=\"M0,0 20,0\" /><path class=\"s1\" d=\"M0,20 3,20 9,0\" /></g><g id=\"vmx-5\"><path class=\"s8\" d=\"M0,0 0,20 3,20 6,10 3,0\" /><path class=\"s1\" d=\"m0,0 3,0 6,20 11,0\" /><path class=\"s1\" d=\"M0,20 3,20 9,0 20,0\" /><path class=\"s2\" d=\"m20,15 -5,5\" /><path class=\"s2\" d=\"M20,10 10,20\" /><path class=\"s2\" d=\"M20,5 8,17\" /><path class=\"s2\" d=\"M20,0 7,13\" /><path class=\"s2\" d=\"M15,0 7,8\" /><path class=\"s2\" d=\"M10,0 9,1\" /></g><g id=\"vmd-5\"><path class=\"s8\" d=\"m0,0 0,20 20,0 C 10,20 7,10 3,0\" /><path class=\"s1\" d=\"m0,0 3,0 c 4,10 7,20 17,20\" /><path class=\"s1\" d=\"m0,20 20,0\" /></g><g id=\"vmu-5\"><path class=\"s8\" d=\"m0,0 0,20 3,0 C 7,10 10,0 20,0\" /><path class=\"s1\" d=\"m0,20 3,0 C 7,10 10,0 20,0\" /><path class=\"s1\" d=\"M0,0 20,0\" /></g><g id=\"vmz-5\"><path class=\"s8\" d=\"M0,0 3,0 C 10,10 15,10 20,10 15,10 10,10 3,20 L 0,20\" /><path class=\"s1\" d=\"m0,0 3,0 c 7,10 12,10 17,10\" /><path class=\"s1\" d=\"m0,20 3,0 C 10,10 15,10 20,10\" /></g><g id=\"Pclk\"><path class=\"s9\" d=\"M-3,12 0,3 3,12 C 1,11 -1,11 -3,12 z\" /><path class=\"s1\" d=\"M0,20 0,0 20,0\" /></g><g id=\"Nclk\"><path class=\"s9\" d=\"M-3,8 0,17 3,8 C 1,9 -1,9 -3,8 z\" /><path class=\"s1\" d=\"m0,0 0,20 20,0\" /></g><g id=\"vvv-2\"><path class=\"s10\" d=\"M20,20 0,20 0,0 20,0\" /><path class=\"s1\" d=\"m0,20 20,0\" /><path class=\"s1\" d=\"M0,0 20,0\" /></g><g id=\"vm0-2\"><path class=\"s10\" d=\"M0,20 0,0 3,0 9,20\" /><path class=\"s1\" d=\"M0,0 3,0 9,20\" /><path class=\"s1\" d=\"m0,20 20,0\" /></g><g id=\"vm1-2\"><path class=\"s10\" d=\"M0,0 0,20 3,20 9,0\" /><path class=\"s1\" d=\"M0,0 20,0\" /><path class=\"s1\" d=\"M0,20 3,20 9,0\" /></g><g id=\"vmx-2\"><path class=\"s10\" d=\"M0,0 0,20 3,20 6,10 3,0\" /><path class=\"s1\" d=\"m0,0 3,0 6,20 11,0\" /><path class=\"s1\" d=\"M0,20 3,20 9,0 20,0\" /><path class=\"s2\" d=\"m20,15 -5,5\" /><path class=\"s2\" d=\"M20,10 10,20\" /><path class=\"s2\" d=\"M20,5 8,17\" /><path class=\"s2\" d=\"M20,0 7,13\" /><path class=\"s2\" d=\"M15,0 7,8\" /><path class=\"s2\" d=\"M10,0 9,1\" /></g><g id=\"vmd-2\"><path class=\"s10\" d=\"m0,0 0,20 20,0 C 10,20 7,10 3,0\" /><path class=\"s1\" d=\"m0,0 3,0 c 4,10 7,20 17,20\" /><path class=\"s1\" d=\"m0,20 20,0\" /></g><g id=\"vmu-2\"><path class=\"s10\" d=\"m0,0 0,20 3,0 C 7,10 10,0 20,0\" /><path class=\"s1\" d=\"m0,20 3,0 C 7,10 10,0 20,0\" /><path class=\"s1\" d=\"M0,0 20,0\" /></g><g id=\"vmz-2\"><path class=\"s10\" d=\"M0,0 3,0 C 10,10 15,10 20,10 15,10 10,10 3,20 L 0,20\" /><path class=\"s1\" d=\"m0,0 3,0 c 7,10 12,10 17,10\" /><path class=\"s1\" d=\"m0,20 3,0 C 10,10 15,10 20,10\" /></g><g id=\"0mv-2\"><path class=\"s10\" d=\"M9,0 20,0 20,20 3,20 z\" /><path class=\"s1\" d=\"M3,20 9,0 20,0\" /><path class=\"s1\" d=\"m0,20 20,0\" /></g><g id=\"1mv-2\"><path class=\"s10\" d=\"M2.875,0 20,0 20,20 9,20 z\" /><path class=\"s1\" d=\"m3,0 6,20 11,0\" /><path class=\"s1\" d=\"M0,0 20,0\" /></g><g id=\"xmv-2\"><path class=\"s10\" d=\"M9,0 20,0 20,20 9,20 6,10 z\" /><path class=\"s1\" d=\"M0,20 3,20 9,0 20,0\" /><path class=\"s1\" d=\"m0,0 3,0 6,20 11,0\" /><path class=\"s2\" d=\"M0,5 3.5,1.5\" /><path class=\"s2\" d=\"M0,10 4.5,5.5\" /><path class=\"s2\" d=\"M0,15 6,9\" /><path class=\"s2\" d=\"M0,20 4,16\" /></g><g id=\"dmv-2\"><path class=\"s10\" d=\"M9,0 20,0 20,20 3,20 z\" /><path class=\"s1\" d=\"M3,20 9,0 20,0\" /><path class=\"s1\" d=\"m0,20 20,0\" /></g><g id=\"umv-2\"><path class=\"s10\" d=\"M3,0 20,0 20,20 9,20 z\" /><path class=\"s1\" d=\"m3,0 6,20 11,0\" /><path class=\"s1\" d=\"M0,0 20,0\" /></g><g id=\"zmv-2\"><path class=\"s10\" d=\"M9,0 20,0 20,20 9,20 6,10 z\" /><path class=\"s1\" d=\"m6,10 3,10 11,0\" /><path class=\"s1\" d=\"M0,10 6,10 9,0 20,0\" /></g><g id=\"vmv-3-2\"><path class=\"s10\" d=\"M9,0 20,0 20,20 9,20 6,10 z\" /><path class=\"s6\" d=\"M3,0 0,0 0,20 3,20 6,10 z\" /><path class=\"s1\" d=\"m0,0 3,0 6,20 11,0\" /><path class=\"s1\" d=\"M0,20 3,20 9,0 20,0\" /></g><g id=\"vmv-4-2\"><path class=\"s10\" d=\"M9,0 20,0 20,20 9,20 6,10 z\" /><path class=\"s7\" d=\"M3,0 0,0 0,20 3,20 6,10 z\" /><path class=\"s1\" d=\"m0,0 3,0 6,20 11,0\" /><path class=\"s1\" d=\"M0,20 3,20 9,0 20,0\" /></g><g id=\"vmv-5-2\"><path class=\"s10\" d=\"M9,0 20,0 20,20 9,20 6,10 z\" /><path class=\"s8\" d=\"M3,0 0,0 0,20 3,20 6,10 z\" /><path class=\"s1\" d=\"m0,0 3,0 6,20 11,0\" /><path class=\"s1\" d=\"M0,20 3,20 9,0 20,0\" /></g><g id=\"vmv-2-3\"><path class=\"s6\" d=\"M9,0 20,0 20,20 9,20 6,10 z\" /><path class=\"s10\" d=\"M3,0 0,0 0,20 3,20 6,10 z\" /><path class=\"s1\" d=\"m0,0 3,0 6,20 11,0\" /><path class=\"s1\" d=\"M0,20 3,20 9,0 20,0\" /></g><g id=\"vmv-2-4\"><path class=\"s7\" d=\"M9,0 20,0 20,20 9,20 6,10 z\" /><path class=\"s10\" d=\"M3,0 0,0 0,20 3,20 6,10 z\" /><path class=\"s1\" d=\"m0,0 3,0 6,20 11,0\" /><path class=\"s1\" d=\"M0,20 3,20 9,0 20,0\" /></g><g id=\"vmv-2-5\"><path class=\"s8\" d=\"M9,0 20,0 20,20 9,20 6,10 z\" /><path class=\"s10\" d=\"M3,0 0,0 0,20 3,20 6,10 z\" /><path class=\"s1\" d=\"m0,0 3,0 6,20 11,0\" /><path class=\"s1\" d=\"M0,20 3,20 9,0 20,0\" /></g><g id=\"vmv-2-2\"><path class=\"s10\" d=\"M9,0 20,0 20,20 9,20 6,10 z\" /><path class=\"s10\" d=\"M3,0 0,0 0,20 3,20 6,10 z\" /><path class=\"s1\" d=\"m0,0 3,0 6,20 11,0\" /><path class=\"s1\" d=\"M0,20 3,20 9,0 20,0\" /></g><g id=\"arrow0\"><path class=\"s11\" d=\"m-12,-3 9,3 -9,3 c 1,-2 1,-4 0,-6 z\" /><path class=\"s12\" d=\"M0,0 -15,0\" /></g><marker id=\"arrowhead\" markerHeight=\"7\" markerUnits=\"strokeWidth\" markerWidth=\"10\" orient=\"auto\" refX=\"15\" refY=\"0\" style=\"fill:#0041c4\" viewBox=\"0 -4 11 8\"><path d=\"M0 -4 11 0 0 4z\" /></marker><marker id=\"arrowtail\" markerHeight=\"7\" markerUnits=\"strokeWidth\" markerWidth=\"10\" orient=\"auto\" refX=\"-15\" refY=\"0\" style=\"fill:#0041c4\" viewBox=\"-11 -4 11 8\"><path d=\"M0 -4 -11 0 0 4z\" /></marker></defs><style type=\"text/css\"><![CDATA[\n",
       "text{font-size:11pt;\n",
       "    font-style:normal;\n",
       "    font-variant:normal;\n",
       "    font-weight:normal;\n",
       "    font-stretch:normal;\n",
       "    text-align:center;\n",
       "    fill-opacity:1;\n",
       "    font-family:Helvetica}\n",
       ".muted{fill:#aaa}\n",
       ".warning{fill:#f6b900}\n",
       ".error{fill:#f60000}\n",
       ".info{fill:#0041c4}\n",
       ".success{fill:#00ab00}\n",
       ".h1{font-size:33pt;font-weight:bold}\n",
       ".h2{font-size:27pt;font-weight:bold}\n",
       ".h3{font-size:20pt;font-weight:bold}\n",
       ".h4{font-size:14pt;font-weight:bold}\n",
       ".h5{font-size:11pt;font-weight:bold}\n",
       ".h6{font-size:8pt;font-weight:bold}\n",
       ".s1{fill:none;\n",
       "    stroke:#000;\n",
       "    stroke-width:1;\n",
       "    stroke-linecap:round;\n",
       "    stroke-linejoin:miter;\n",
       "    stroke-miterlimit:4;\n",
       "    stroke-opacity:1;\n",
       "    stroke-dasharray:none}\n",
       ".s2{fill:none;\n",
       "    stroke:#000;\n",
       "    stroke-width:0.5;\n",
       "    stroke-linecap:round;\n",
       "    stroke-linejoin:miter;\n",
       "    stroke-miterlimit:4;\n",
       "    stroke-opacity:1;\n",
       "    stroke-dasharray:none}\n",
       ".s3{color:#000;\n",
       "    fill:none;\n",
       "    stroke:#000;\n",
       "    stroke-width:1;\n",
       "    stroke-linecap:round;\n",
       "    stroke-linejoin:miter;\n",
       "    stroke-miterlimit:4;\n",
       "    stroke-opacity:1;\n",
       "    stroke-dasharray:1,3;\n",
       "    stroke-dashoffset:0;\n",
       "    marker:none;\n",
       "    visibility:visible;\n",
       "    display:inline;\n",
       "    overflow:visible;\n",
       "    enable-background:accumulate}\n",
       ".s4{color:#000;\n",
       "    fill:none;\n",
       "    stroke:#000;\n",
       "    stroke-width:1;\n",
       "    stroke-linecap:round;\n",
       "    stroke-linejoin:miter;\n",
       "    stroke-miterlimit:4;\n",
       "    stroke-opacity:1;\n",
       "    stroke-dasharray:none;\n",
       "    stroke-dashoffset:0;\n",
       "    marker:none;\n",
       "    visibility:visible;\n",
       "    display:inline;\n",
       "    overflow:visible}\n",
       ".s5{fill:#fff;stroke:none}\n",
       ".s6{color:#000;\n",
       "    fill:#ffffb4;\n",
       "    fill-opacity:1;\n",
       "    fill-rule:nonzero;\n",
       "    stroke:none;\n",
       "    stroke-width:1px;\n",
       "    marker:none;\n",
       "    visibility:visible;\n",
       "    display:inline;\n",
       "    overflow:visible;\n",
       "    enable-background:accumulate}\n",
       ".s7{color:#000;\n",
       "    fill:#ffe0b9;\n",
       "    fill-opacity:1;\n",
       "    fill-rule:nonzero;\n",
       "    stroke:none;\n",
       "    stroke-width:1px;\n",
       "    marker:none;\n",
       "    visibility:visible;\n",
       "    display:inline;\n",
       "    overflow:visible;\n",
       "    enable-background:accumulate}\n",
       ".s8{color:#000;\n",
       "    fill:#b9e0ff;\n",
       "    fill-opacity:1;\n",
       "    fill-rule:nonzero;\n",
       "    stroke:none;\n",
       "    stroke-width:1px;\n",
       "    marker:none;\n",
       "    visibility:visible;\n",
       "    display:inline;\n",
       "    overflow:visible;\n",
       "    enable-background:accumulate}\n",
       ".s9{fill:#000;\n",
       "    fill-opacity:1;\n",
       "    stroke:none}\n",
       "    .s10{color:#000;\n",
       "    fill:#fff;\n",
       "    fill-opacity:1;\n",
       "    fill-rule:nonzero;\n",
       "    stroke:none;\n",
       "    stroke-width:1px;\n",
       "    marker:none;\n",
       "    visibility:visible;\n",
       "    display:inline;\n",
       "    overflow:visible;\n",
       "    enable-background:accumulate}\n",
       ".s11{fill:#0041c4;fill-opacity:1;stroke:none}\n",
       ".s12{fill:none;\n",
       "    stroke:#0041c4;\n",
       "    stroke-width:1;\n",
       "    stroke-linecap:round;\n",
       "    stroke-linejoin:miter;\n",
       "    stroke-miterlimit:4;\n",
       "    stroke-opacity:1;\n",
       "    stroke-dasharray:none}\n",
       "]]></style><g id=\"waves_0\"><g id=\"lanes_0\" transform=\"translate(60.5,66.5)\"><g id=\"labels_0\"><g id=\"labels_0_0\" transform=\"translate(0,5)\" /><g id=\"labels_1_0\" transform=\"translate(0,35)\" /><g id=\"labels_2_0\" transform=\"translate(0,65)\" /><g id=\"labels_3_0\" transform=\"translate(0,95)\" /><g id=\"labels_4_0\" transform=\"translate(0,125)\" /><g id=\"labels_5_0\" transform=\"translate(0,155)\" /><g id=\"labels_6_0\" transform=\"translate(0,185)\" /></g><g id=\"gmarks_0\"><path d=\"m 0,0 0,210\" id=\"gmark_0_0\" style=\"stroke:#888;stroke-width:0.5;stroke-dasharray:1,3\" /><path d=\"m 40,0 0,210\" id=\"gmark_1_0\" style=\"stroke:#888;stroke-width:0.5;stroke-dasharray:1,3\" /><path d=\"m 80,0 0,210\" id=\"gmark_2_0\" style=\"stroke:#888;stroke-width:0.5;stroke-dasharray:1,3\" /><path d=\"m 120,0 0,210\" id=\"gmark_3_0\" style=\"stroke:#888;stroke-width:0.5;stroke-dasharray:1,3\" /><path d=\"m 160,0 0,210\" id=\"gmark_4_0\" style=\"stroke:#888;stroke-width:0.5;stroke-dasharray:1,3\" /><path d=\"m 200,0 0,210\" id=\"gmark_5_0\" style=\"stroke:#888;stroke-width:0.5;stroke-dasharray:1,3\" /><path d=\"m 240,0 0,210\" id=\"gmark_6_0\" style=\"stroke:#888;stroke-width:0.5;stroke-dasharray:1,3\" /><path d=\"m 280,0 0,210\" id=\"gmark_7_0\" style=\"stroke:#888;stroke-width:0.5;stroke-dasharray:1,3\" /><path d=\"m 320,0 0,210\" id=\"gmark_8_0\" style=\"stroke:#888;stroke-width:0.5;stroke-dasharray:1,3\" /><path d=\"m 360,0 0,210\" id=\"gmark_9_0\" style=\"stroke:#888;stroke-width:0.5;stroke-dasharray:1,3\" /><path d=\"m 400,0 0,210\" id=\"gmark_10_0\" style=\"stroke:#888;stroke-width:0.5;stroke-dasharray:1,3\" /><path d=\"m 440,0 0,210\" id=\"gmark_11_0\" style=\"stroke:#888;stroke-width:0.5;stroke-dasharray:1,3\" /><path d=\"m 480,0 0,210\" id=\"gmark_12_0\" style=\"stroke:#888;stroke-width:0.5;stroke-dasharray:1,3\" /><path d=\"m 520,0 0,210\" id=\"gmark_13_0\" style=\"stroke:#888;stroke-width:0.5;stroke-dasharray:1,3\" /><path d=\"m 560,0 0,210\" id=\"gmark_14_0\" style=\"stroke:#888;stroke-width:0.5;stroke-dasharray:1,3\" /><path d=\"m 600,0 0,210\" id=\"gmark_15_0\" style=\"stroke:#888;stroke-width:0.5;stroke-dasharray:1,3\" /><path d=\"m 640,0 0,210\" id=\"gmark_16_0\" style=\"stroke:#888;stroke-width:0.5;stroke-dasharray:1,3\" /><path d=\"m 680,0 0,210\" id=\"gmark_17_0\" style=\"stroke:#888;stroke-width:0.5;stroke-dasharray:1,3\" /><path d=\"m 720,0 0,210\" id=\"gmark_18_0\" style=\"stroke:#888;stroke-width:0.5;stroke-dasharray:1,3\" /><path d=\"m 760,0 0,210\" id=\"gmark_19_0\" style=\"stroke:#888;stroke-width:0.5;stroke-dasharray:1,3\" /><text fill=\"#000\" text-anchor=\"middle\" x=\"380.0\" xml:space=\"preserve\" y=\"-33\"><tspan>Simulation Waveform</tspan></text><text class=\"muted\" text-anchor=\"middle\" x=\"0\" xml:space=\"preserve\" y=\"-5\">0</text><text class=\"muted\" text-anchor=\"middle\" x=\"40\" xml:space=\"preserve\" y=\"-5\">1</text><text class=\"muted\" text-anchor=\"middle\" x=\"80\" xml:space=\"preserve\" y=\"-5\">2</text><text class=\"muted\" text-anchor=\"middle\" x=\"120\" xml:space=\"preserve\" y=\"-5\">3</text><text class=\"muted\" text-anchor=\"middle\" x=\"160\" xml:space=\"preserve\" y=\"-5\">4</text><text class=\"muted\" text-anchor=\"middle\" x=\"200\" xml:space=\"preserve\" y=\"-5\">5</text><text class=\"muted\" text-anchor=\"middle\" x=\"240\" xml:space=\"preserve\" y=\"-5\">6</text><text class=\"muted\" text-anchor=\"middle\" x=\"280\" xml:space=\"preserve\" y=\"-5\">7</text><text class=\"muted\" text-anchor=\"middle\" x=\"320\" xml:space=\"preserve\" y=\"-5\">8</text><text class=\"muted\" text-anchor=\"middle\" x=\"360\" xml:space=\"preserve\" y=\"-5\">9</text><text class=\"muted\" text-anchor=\"middle\" x=\"400\" xml:space=\"preserve\" y=\"-5\">10</text><text class=\"muted\" text-anchor=\"middle\" x=\"440\" xml:space=\"preserve\" y=\"-5\">11</text><text class=\"muted\" text-anchor=\"middle\" x=\"480\" xml:space=\"preserve\" y=\"-5\">12</text><text class=\"muted\" text-anchor=\"middle\" x=\"520\" xml:space=\"preserve\" y=\"-5\">13</text><text class=\"muted\" text-anchor=\"middle\" x=\"560\" xml:space=\"preserve\" y=\"-5\">14</text><text class=\"muted\" text-anchor=\"middle\" x=\"600\" xml:space=\"preserve\" y=\"-5\">15</text><text class=\"muted\" text-anchor=\"middle\" x=\"640\" xml:space=\"preserve\" y=\"-5\">16</text><text class=\"muted\" text-anchor=\"middle\" x=\"680\" xml:space=\"preserve\" y=\"-5\">17</text><text class=\"muted\" text-anchor=\"middle\" x=\"720\" xml:space=\"preserve\" y=\"-5\">18</text><text class=\"muted\" text-anchor=\"middle\" x=\"760\" xml:space=\"preserve\" y=\"-5\">19</text></g><g id=\"wavelane_0_0\" transform=\"translate(0,5)\"><text class=\"info\" text-anchor=\"end\" x=\"-10\" xml:space=\"preserve\" y=\"15\"><tspan>A</tspan></text><g id=\"wavelane_draw_0_0\" transform=\"translate(0,0)\"><use transform=\"translate(0)\" xlink:href=\"#000\" /><use transform=\"translate(20)\" xlink:href=\"#000\" /><use transform=\"translate(40)\" xlink:href=\"#000\" /><use transform=\"translate(60)\" xlink:href=\"#000\" /><use transform=\"translate(80)\" xlink:href=\"#000\" /><use transform=\"translate(100)\" xlink:href=\"#000\" /><use transform=\"translate(120)\" xlink:href=\"#000\" /><use transform=\"translate(140)\" xlink:href=\"#000\" /><use transform=\"translate(160)\" xlink:href=\"#000\" /><use transform=\"translate(180)\" xlink:href=\"#000\" /><use transform=\"translate(200)\" xlink:href=\"#000\" /><use transform=\"translate(220)\" xlink:href=\"#000\" /><use transform=\"translate(240)\" xlink:href=\"#000\" /><use transform=\"translate(260)\" xlink:href=\"#000\" /><use transform=\"translate(280)\" xlink:href=\"#000\" /><use transform=\"translate(300)\" xlink:href=\"#000\" /><use transform=\"translate(320)\" xlink:href=\"#000\" /><use transform=\"translate(340)\" xlink:href=\"#000\" /><use transform=\"translate(360)\" xlink:href=\"#000\" /><use transform=\"translate(380)\" xlink:href=\"#000\" /><use transform=\"translate(400)\" xlink:href=\"#0m1\" /><use transform=\"translate(420)\" xlink:href=\"#111\" /><use transform=\"translate(440)\" xlink:href=\"#111\" /><use transform=\"translate(460)\" xlink:href=\"#111\" /><use transform=\"translate(480)\" xlink:href=\"#111\" /><use transform=\"translate(500)\" xlink:href=\"#111\" /><use transform=\"translate(520)\" xlink:href=\"#111\" /><use transform=\"translate(540)\" xlink:href=\"#111\" /><use transform=\"translate(560)\" xlink:href=\"#111\" /><use transform=\"translate(580)\" xlink:href=\"#111\" /><use transform=\"translate(600)\" xlink:href=\"#111\" /><use transform=\"translate(620)\" xlink:href=\"#111\" /><use transform=\"translate(640)\" xlink:href=\"#111\" /><use transform=\"translate(660)\" xlink:href=\"#111\" /><use transform=\"translate(680)\" xlink:href=\"#111\" /><use transform=\"translate(700)\" xlink:href=\"#111\" /><use transform=\"translate(720)\" xlink:href=\"#111\" /><use transform=\"translate(740)\" xlink:href=\"#111\" /></g></g><g id=\"wavelane_1_0\" transform=\"translate(0,35)\"><text class=\"info\" text-anchor=\"end\" x=\"-10\" xml:space=\"preserve\" y=\"15\"><tspan>B</tspan></text><g id=\"wavelane_draw_1_0\" transform=\"translate(0,0)\"><use transform=\"translate(0)\" xlink:href=\"#000\" /><use transform=\"translate(20)\" xlink:href=\"#000\" /><use transform=\"translate(40)\" xlink:href=\"#000\" /><use transform=\"translate(60)\" xlink:href=\"#000\" /><use transform=\"translate(80)\" xlink:href=\"#000\" /><use transform=\"translate(100)\" xlink:href=\"#000\" /><use transform=\"translate(120)\" xlink:href=\"#000\" /><use transform=\"translate(140)\" xlink:href=\"#000\" /><use transform=\"translate(160)\" xlink:href=\"#000\" /><use transform=\"translate(180)\" xlink:href=\"#000\" /><use transform=\"translate(200)\" xlink:href=\"#0m1\" /><use transform=\"translate(220)\" xlink:href=\"#111\" /><use transform=\"translate(240)\" xlink:href=\"#111\" /><use transform=\"translate(260)\" xlink:href=\"#111\" /><use transform=\"translate(280)\" xlink:href=\"#111\" /><use transform=\"translate(300)\" xlink:href=\"#111\" /><use transform=\"translate(320)\" xlink:href=\"#111\" /><use transform=\"translate(340)\" xlink:href=\"#111\" /><use transform=\"translate(360)\" xlink:href=\"#111\" /><use transform=\"translate(380)\" xlink:href=\"#111\" /><use transform=\"translate(400)\" xlink:href=\"#111\" /><use transform=\"translate(420)\" xlink:href=\"#111\" /><use transform=\"translate(440)\" xlink:href=\"#111\" /><use transform=\"translate(460)\" xlink:href=\"#111\" /><use transform=\"translate(480)\" xlink:href=\"#111\" /><use transform=\"translate(500)\" xlink:href=\"#111\" /><use transform=\"translate(520)\" xlink:href=\"#111\" /><use transform=\"translate(540)\" xlink:href=\"#111\" /><use transform=\"translate(560)\" xlink:href=\"#111\" /><use transform=\"translate(580)\" xlink:href=\"#111\" /><use transform=\"translate(600)\" xlink:href=\"#111\" /><use transform=\"translate(620)\" xlink:href=\"#111\" /><use transform=\"translate(640)\" xlink:href=\"#111\" /><use transform=\"translate(660)\" xlink:href=\"#111\" /><use transform=\"translate(680)\" xlink:href=\"#111\" /><use transform=\"translate(700)\" xlink:href=\"#111\" /><use transform=\"translate(720)\" xlink:href=\"#111\" /><use transform=\"translate(740)\" xlink:href=\"#111\" /></g></g><g id=\"wavelane_2_0\" transform=\"translate(0,65)\"><text class=\"info\" text-anchor=\"end\" x=\"-10\" xml:space=\"preserve\" y=\"15\"><tspan>sel</tspan></text><g id=\"wavelane_draw_2_0\" transform=\"translate(0,0)\"><use transform=\"translate(0)\" xlink:href=\"#111\" /><use transform=\"translate(20)\" xlink:href=\"#111\" /><use transform=\"translate(40)\" xlink:href=\"#111\" /><use transform=\"translate(60)\" xlink:href=\"#111\" /><use transform=\"translate(80)\" xlink:href=\"#111\" /><use transform=\"translate(100)\" xlink:href=\"#111\" /><use transform=\"translate(120)\" xlink:href=\"#111\" /><use transform=\"translate(140)\" xlink:href=\"#111\" /><use transform=\"translate(160)\" xlink:href=\"#111\" /><use transform=\"translate(180)\" xlink:href=\"#111\" /><use transform=\"translate(200)\" xlink:href=\"#111\" /><use transform=\"translate(220)\" xlink:href=\"#111\" /><use transform=\"translate(240)\" xlink:href=\"#111\" /><use transform=\"translate(260)\" xlink:href=\"#111\" /><use transform=\"translate(280)\" xlink:href=\"#111\" /><use transform=\"translate(300)\" xlink:href=\"#111\" /><use transform=\"translate(320)\" xlink:href=\"#111\" /><use transform=\"translate(340)\" xlink:href=\"#111\" /><use transform=\"translate(360)\" xlink:href=\"#111\" /><use transform=\"translate(380)\" xlink:href=\"#111\" /><use transform=\"translate(400)\" xlink:href=\"#111\" /><use transform=\"translate(420)\" xlink:href=\"#111\" /><use transform=\"translate(440)\" xlink:href=\"#111\" /><use transform=\"translate(460)\" xlink:href=\"#111\" /><use transform=\"translate(480)\" xlink:href=\"#111\" /><use transform=\"translate(500)\" xlink:href=\"#111\" /><use transform=\"translate(520)\" xlink:href=\"#111\" /><use transform=\"translate(540)\" xlink:href=\"#111\" /><use transform=\"translate(560)\" xlink:href=\"#111\" /><use transform=\"translate(580)\" xlink:href=\"#111\" /><use transform=\"translate(600)\" xlink:href=\"#1m0\" /><use transform=\"translate(620)\" xlink:href=\"#000\" /><use transform=\"translate(640)\" xlink:href=\"#000\" /><use transform=\"translate(660)\" xlink:href=\"#000\" /><use transform=\"translate(680)\" xlink:href=\"#000\" /><use transform=\"translate(700)\" xlink:href=\"#000\" /><use transform=\"translate(720)\" xlink:href=\"#000\" /><use transform=\"translate(740)\" xlink:href=\"#000\" /></g></g><g id=\"wavelane_3_0\" transform=\"translate(0,95)\"><text class=\"info\" text-anchor=\"end\" x=\"-10\" xml:space=\"preserve\" y=\"15\"><tspan>seln</tspan></text><g id=\"wavelane_draw_3_0\" transform=\"translate(0,0)\"><use transform=\"translate(0)\" xlink:href=\"#000\" /><use transform=\"translate(20)\" xlink:href=\"#000\" /><use transform=\"translate(40)\" xlink:href=\"#000\" /><use transform=\"translate(60)\" xlink:href=\"#000\" /><use transform=\"translate(80)\" xlink:href=\"#000\" /><use transform=\"translate(100)\" xlink:href=\"#000\" /><use transform=\"translate(120)\" xlink:href=\"#000\" /><use transform=\"translate(140)\" xlink:href=\"#000\" /><use transform=\"translate(160)\" xlink:href=\"#000\" /><use transform=\"translate(180)\" xlink:href=\"#000\" /><use transform=\"translate(200)\" xlink:href=\"#000\" /><use transform=\"translate(220)\" xlink:href=\"#000\" /><use transform=\"translate(240)\" xlink:href=\"#000\" /><use transform=\"translate(260)\" xlink:href=\"#000\" /><use transform=\"translate(280)\" xlink:href=\"#000\" /><use transform=\"translate(300)\" xlink:href=\"#000\" /><use transform=\"translate(320)\" xlink:href=\"#000\" /><use transform=\"translate(340)\" xlink:href=\"#000\" /><use transform=\"translate(360)\" xlink:href=\"#000\" /><use transform=\"translate(380)\" xlink:href=\"#000\" /><use transform=\"translate(400)\" xlink:href=\"#000\" /><use transform=\"translate(420)\" xlink:href=\"#000\" /><use transform=\"translate(440)\" xlink:href=\"#000\" /><use transform=\"translate(460)\" xlink:href=\"#000\" /><use transform=\"translate(480)\" xlink:href=\"#000\" /><use transform=\"translate(500)\" xlink:href=\"#000\" /><use transform=\"translate(520)\" xlink:href=\"#000\" /><use transform=\"translate(540)\" xlink:href=\"#000\" /><use transform=\"translate(560)\" xlink:href=\"#000\" /><use transform=\"translate(580)\" xlink:href=\"#000\" /><use transform=\"translate(600)\" xlink:href=\"#000\" /><use transform=\"translate(620)\" xlink:href=\"#000\" /><use transform=\"translate(640)\" xlink:href=\"#0m1\" /><use transform=\"translate(660)\" xlink:href=\"#111\" /><use transform=\"translate(680)\" xlink:href=\"#111\" /><use transform=\"translate(700)\" xlink:href=\"#111\" /><use transform=\"translate(720)\" xlink:href=\"#111\" /><use transform=\"translate(740)\" xlink:href=\"#111\" /></g></g><g id=\"wavelane_4_0\" transform=\"translate(0,125)\"><text class=\"info\" text-anchor=\"end\" x=\"-10\" xml:space=\"preserve\" y=\"15\"><tspan>S1</tspan></text><g id=\"wavelane_draw_4_0\" transform=\"translate(0,0)\"><use transform=\"translate(0)\" xlink:href=\"#111\" /><use transform=\"translate(20)\" xlink:href=\"#111\" /><use transform=\"translate(40)\" xlink:href=\"#111\" /><use transform=\"translate(60)\" xlink:href=\"#111\" /><use transform=\"translate(80)\" xlink:href=\"#111\" /><use transform=\"translate(100)\" xlink:href=\"#111\" /><use transform=\"translate(120)\" xlink:href=\"#111\" /><use transform=\"translate(140)\" xlink:href=\"#111\" /><use transform=\"translate(160)\" xlink:href=\"#111\" /><use transform=\"translate(180)\" xlink:href=\"#111\" /><use transform=\"translate(200)\" xlink:href=\"#111\" /><use transform=\"translate(220)\" xlink:href=\"#111\" /><use transform=\"translate(240)\" xlink:href=\"#111\" /><use transform=\"translate(260)\" xlink:href=\"#111\" /><use transform=\"translate(280)\" xlink:href=\"#111\" /><use transform=\"translate(300)\" xlink:href=\"#111\" /><use transform=\"translate(320)\" xlink:href=\"#111\" /><use transform=\"translate(340)\" xlink:href=\"#111\" /><use transform=\"translate(360)\" xlink:href=\"#111\" /><use transform=\"translate(380)\" xlink:href=\"#111\" /><use transform=\"translate(400)\" xlink:href=\"#111\" /><use transform=\"translate(420)\" xlink:href=\"#111\" /><use transform=\"translate(440)\" xlink:href=\"#111\" /><use transform=\"translate(460)\" xlink:href=\"#111\" /><use transform=\"translate(480)\" xlink:href=\"#111\" /><use transform=\"translate(500)\" xlink:href=\"#111\" /><use transform=\"translate(520)\" xlink:href=\"#111\" /><use transform=\"translate(540)\" xlink:href=\"#111\" /><use transform=\"translate(560)\" xlink:href=\"#111\" /><use transform=\"translate(580)\" xlink:href=\"#111\" /><use transform=\"translate(600)\" xlink:href=\"#111\" /><use transform=\"translate(620)\" xlink:href=\"#111\" /><use transform=\"translate(640)\" xlink:href=\"#111\" /><use transform=\"translate(660)\" xlink:href=\"#111\" /><use transform=\"translate(680)\" xlink:href=\"#1m0\" /><use transform=\"translate(700)\" xlink:href=\"#000\" /><use transform=\"translate(720)\" xlink:href=\"#000\" /><use transform=\"translate(740)\" xlink:href=\"#000\" /></g></g><g id=\"wavelane_5_0\" transform=\"translate(0,155)\"><text class=\"info\" text-anchor=\"end\" x=\"-10\" xml:space=\"preserve\" y=\"15\"><tspan>S2</tspan></text><g id=\"wavelane_draw_5_0\" transform=\"translate(0,0)\"><use transform=\"translate(0)\" xlink:href=\"#111\" /><use transform=\"translate(20)\" xlink:href=\"#111\" /><use transform=\"translate(40)\" xlink:href=\"#111\" /><use transform=\"translate(60)\" xlink:href=\"#111\" /><use transform=\"translate(80)\" xlink:href=\"#111\" /><use transform=\"translate(100)\" xlink:href=\"#111\" /><use transform=\"translate(120)\" xlink:href=\"#111\" /><use transform=\"translate(140)\" xlink:href=\"#111\" /><use transform=\"translate(160)\" xlink:href=\"#111\" /><use transform=\"translate(180)\" xlink:href=\"#111\" /><use transform=\"translate(200)\" xlink:href=\"#111\" /><use transform=\"translate(220)\" xlink:href=\"#111\" /><use transform=\"translate(240)\" xlink:href=\"#1m0\" /><use transform=\"translate(260)\" xlink:href=\"#000\" /><use transform=\"translate(280)\" xlink:href=\"#000\" /><use transform=\"translate(300)\" xlink:href=\"#000\" /><use transform=\"translate(320)\" xlink:href=\"#000\" /><use transform=\"translate(340)\" xlink:href=\"#000\" /><use transform=\"translate(360)\" xlink:href=\"#000\" /><use transform=\"translate(380)\" xlink:href=\"#000\" /><use transform=\"translate(400)\" xlink:href=\"#000\" /><use transform=\"translate(420)\" xlink:href=\"#000\" /><use transform=\"translate(440)\" xlink:href=\"#000\" /><use transform=\"translate(460)\" xlink:href=\"#000\" /><use transform=\"translate(480)\" xlink:href=\"#000\" /><use transform=\"translate(500)\" xlink:href=\"#000\" /><use transform=\"translate(520)\" xlink:href=\"#000\" /><use transform=\"translate(540)\" xlink:href=\"#000\" /><use transform=\"translate(560)\" xlink:href=\"#000\" /><use transform=\"translate(580)\" xlink:href=\"#000\" /><use transform=\"translate(600)\" xlink:href=\"#000\" /><use transform=\"translate(620)\" xlink:href=\"#000\" /><use transform=\"translate(640)\" xlink:href=\"#0m1\" /><use transform=\"translate(660)\" xlink:href=\"#111\" /><use transform=\"translate(680)\" xlink:href=\"#111\" /><use transform=\"translate(700)\" xlink:href=\"#111\" /><use transform=\"translate(720)\" xlink:href=\"#111\" /><use transform=\"translate(740)\" xlink:href=\"#111\" /></g></g><g id=\"wavelane_6_0\" transform=\"translate(0,185)\"><text class=\"info\" text-anchor=\"end\" x=\"-10\" xml:space=\"preserve\" y=\"15\"><tspan>Q</tspan></text><g id=\"wavelane_draw_6_0\" transform=\"translate(0,0)\"><use transform=\"translate(0)\" xlink:href=\"#000\" /><use transform=\"translate(20)\" xlink:href=\"#000\" /><use transform=\"translate(40)\" xlink:href=\"#000\" /><use transform=\"translate(60)\" xlink:href=\"#000\" /><use transform=\"translate(80)\" xlink:href=\"#000\" /><use transform=\"translate(100)\" xlink:href=\"#000\" /><use transform=\"translate(120)\" xlink:href=\"#000\" /><use transform=\"translate(140)\" xlink:href=\"#000\" /><use transform=\"translate(160)\" xlink:href=\"#000\" /><use transform=\"translate(180)\" xlink:href=\"#000\" /><use transform=\"translate(200)\" xlink:href=\"#000\" /><use transform=\"translate(220)\" xlink:href=\"#000\" /><use transform=\"translate(240)\" xlink:href=\"#000\" /><use transform=\"translate(260)\" xlink:href=\"#000\" /><use transform=\"translate(280)\" xlink:href=\"#0m1\" /><use transform=\"translate(300)\" xlink:href=\"#111\" /><use transform=\"translate(320)\" xlink:href=\"#111\" /><use transform=\"translate(340)\" xlink:href=\"#111\" /><use transform=\"translate(360)\" xlink:href=\"#111\" /><use transform=\"translate(380)\" xlink:href=\"#111\" /><use transform=\"translate(400)\" xlink:href=\"#111\" /><use transform=\"translate(420)\" xlink:href=\"#111\" /><use transform=\"translate(440)\" xlink:href=\"#111\" /><use transform=\"translate(460)\" xlink:href=\"#111\" /><use transform=\"translate(480)\" xlink:href=\"#111\" /><use transform=\"translate(500)\" xlink:href=\"#111\" /><use transform=\"translate(520)\" xlink:href=\"#111\" /><use transform=\"translate(540)\" xlink:href=\"#111\" /><use transform=\"translate(560)\" xlink:href=\"#111\" /><use transform=\"translate(580)\" xlink:href=\"#111\" /><use transform=\"translate(600)\" xlink:href=\"#111\" /><use transform=\"translate(620)\" xlink:href=\"#111\" /><use transform=\"translate(640)\" xlink:href=\"#111\" /><use transform=\"translate(660)\" xlink:href=\"#111\" /><use transform=\"translate(680)\" xlink:href=\"#1m0\" /><use transform=\"translate(700)\" xlink:href=\"#000\" /><use transform=\"translate(720)\" xlink:href=\"#0m1\" /><use transform=\"translate(740)\" xlink:href=\"#111\" /></g></g><g id=\"wavearcs_0\" /><g id=\"wavegaps_0\"><g id=\"wavegap_0_0\" transform=\"translate(0,5)\" /><g id=\"wavegap_1_0\" transform=\"translate(0,35)\" /><g id=\"wavegap_2_0\" transform=\"translate(0,65)\" /><g id=\"wavegap_3_0\" transform=\"translate(0,95)\" /><g id=\"wavegap_4_0\" transform=\"translate(0,125)\" /><g id=\"wavegap_5_0\" transform=\"translate(0,155)\" /><g id=\"wavegap_6_0\" transform=\"translate(0,185)\" /></g></g><g id=\"groups_0\" /></g></svg>"
      ],
      "text/plain": [
       "<svgwrite.drawing.Drawing at 0x71254690>"
      ]
     },
     "execution_count": 7,
     "metadata": {},
     "output_type": "execute_result"
    }
   ],
   "source": [
    "wavedrom.render(json)"
   ]
  },
  {
   "cell_type": "code",
   "execution_count": null,
   "metadata": {},
   "outputs": [],
   "source": []
  }
 ],
 "metadata": {
  "kernelspec": {
   "display_name": "Python 3",
   "language": "python",
   "name": "python3"
  },
  "language_info": {
   "codemirror_mode": {
    "name": "ipython",
    "version": 3
   },
   "file_extension": ".py",
   "mimetype": "text/x-python",
   "name": "python",
   "nbconvert_exporter": "python",
   "pygments_lexer": "ipython3",
   "version": "3.5.3"
  }
 },
 "nbformat": 4,
 "nbformat_minor": 2
}
